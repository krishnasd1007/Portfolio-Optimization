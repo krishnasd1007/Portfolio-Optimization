{
  "nbformat": 4,
  "nbformat_minor": 0,
  "metadata": {
    "colab": {
      "name": "Algorithms.ipynb",
      "provenance": [],
      "collapsed_sections": [],
      "authorship_tag": "ABX9TyM7Cpz3yNj/pkYbRHlgNH+O",
      "include_colab_link": true
    },
    "kernelspec": {
      "name": "python3",
      "display_name": "Python 3"
    },
    "language_info": {
      "name": "python"
    }
  },
  "cells": [
    {
      "cell_type": "markdown",
      "metadata": {
        "id": "view-in-github",
        "colab_type": "text"
      },
      "source": [
        "<a href=\"https://colab.research.google.com/github/krishnasd1007/Portfolio-Optimization/blob/main/Algorithms.ipynb\" target=\"_parent\"><img src=\"https://colab.research.google.com/assets/colab-badge.svg\" alt=\"Open In Colab\"/></a>"
      ]
    },
    {
      "cell_type": "code",
      "source": [
        "from google.colab import drive\n",
        "drive.mount('/gdrive')"
      ],
      "metadata": {
        "colab": {
          "base_uri": "https://localhost:8080/"
        },
        "id": "O2RtXRKUn6bx",
        "outputId": "e41b0b95-65b8-4985-9078-5536bbbb7f41"
      },
      "execution_count": null,
      "outputs": [
        {
          "output_type": "stream",
          "name": "stdout",
          "text": [
            "Mounted at /gdrive\n"
          ]
        }
      ]
    },
    {
      "cell_type": "code",
      "source": [
        "path = '/gdrive/My Drive/'"
      ],
      "metadata": {
        "id": "Am7jiINMoC9T"
      },
      "execution_count": null,
      "outputs": []
    },
    {
      "cell_type": "code",
      "source": [
        "import numpy as np\n",
        "import pandas as pd\n",
        "import matplotlib.pyplot as plt\n",
        "import seaborn as sns\n",
        "import random\n",
        "%matplotlib inline"
      ],
      "metadata": {
        "id": "rwejEYPHoDAr"
      },
      "execution_count": null,
      "outputs": []
    },
    {
      "cell_type": "markdown",
      "source": [
        "## **Data**"
      ],
      "metadata": {
        "id": "sNTInvFyoqUX"
      }
    },
    {
      "cell_type": "code",
      "source": [
        "data = pd.read_csv(path + 'data.csv')\n",
        "data = data.dropna()\n",
        "data = (data - data.mean())/data.std()\n",
        "data.head()"
      ],
      "metadata": {
        "colab": {
          "base_uri": "https://localhost:8080/",
          "height": 206
        },
        "id": "w38pUz-FoaIM",
        "outputId": "139270e1-d7d0-4b23-9b3f-0bbe0912309a"
      },
      "execution_count": null,
      "outputs": [
        {
          "output_type": "execute_result",
          "data": {
            "text/plain": [
              "        BBC      CRBN      GENY      HDMV      IBMQ      JNMF      JPMV  \\\n",
              "0 -1.760251 -1.028700  0.110624  1.346595 -1.954417  2.175184 -0.530278   \n",
              "1 -1.405412 -1.028700  0.596818  1.176090 -1.910275  1.785981 -0.303484   \n",
              "2 -1.193546 -1.860785  0.596818  1.096439 -1.914688  1.141222 -0.643672   \n",
              "3 -1.215769 -1.864237 -0.432795  1.332902 -1.755765  0.707812 -0.889358   \n",
              "4 -1.882481 -1.719223 -0.432795  1.332902 -1.733692  1.596811 -0.757067   \n",
              "\n",
              "       MCRO       WIZ      XOUT  \n",
              "0 -1.272652 -0.306588 -1.008410  \n",
              "1 -1.080434 -0.338375 -1.256879  \n",
              "2 -0.636842 -0.321037 -1.124327  \n",
              "3 -1.021287 -0.407731 -1.045975  \n",
              "4 -1.346589 -0.360049 -0.893567  "
            ],
            "text/html": [
              "\n",
              "  <div id=\"df-c16b143d-bd8a-44bd-b6bc-805e5d922282\">\n",
              "    <div class=\"colab-df-container\">\n",
              "      <div>\n",
              "<style scoped>\n",
              "    .dataframe tbody tr th:only-of-type {\n",
              "        vertical-align: middle;\n",
              "    }\n",
              "\n",
              "    .dataframe tbody tr th {\n",
              "        vertical-align: top;\n",
              "    }\n",
              "\n",
              "    .dataframe thead th {\n",
              "        text-align: right;\n",
              "    }\n",
              "</style>\n",
              "<table border=\"1\" class=\"dataframe\">\n",
              "  <thead>\n",
              "    <tr style=\"text-align: right;\">\n",
              "      <th></th>\n",
              "      <th>BBC</th>\n",
              "      <th>CRBN</th>\n",
              "      <th>GENY</th>\n",
              "      <th>HDMV</th>\n",
              "      <th>IBMQ</th>\n",
              "      <th>JNMF</th>\n",
              "      <th>JPMV</th>\n",
              "      <th>MCRO</th>\n",
              "      <th>WIZ</th>\n",
              "      <th>XOUT</th>\n",
              "    </tr>\n",
              "  </thead>\n",
              "  <tbody>\n",
              "    <tr>\n",
              "      <th>0</th>\n",
              "      <td>-1.760251</td>\n",
              "      <td>-1.028700</td>\n",
              "      <td>0.110624</td>\n",
              "      <td>1.346595</td>\n",
              "      <td>-1.954417</td>\n",
              "      <td>2.175184</td>\n",
              "      <td>-0.530278</td>\n",
              "      <td>-1.272652</td>\n",
              "      <td>-0.306588</td>\n",
              "      <td>-1.008410</td>\n",
              "    </tr>\n",
              "    <tr>\n",
              "      <th>1</th>\n",
              "      <td>-1.405412</td>\n",
              "      <td>-1.028700</td>\n",
              "      <td>0.596818</td>\n",
              "      <td>1.176090</td>\n",
              "      <td>-1.910275</td>\n",
              "      <td>1.785981</td>\n",
              "      <td>-0.303484</td>\n",
              "      <td>-1.080434</td>\n",
              "      <td>-0.338375</td>\n",
              "      <td>-1.256879</td>\n",
              "    </tr>\n",
              "    <tr>\n",
              "      <th>2</th>\n",
              "      <td>-1.193546</td>\n",
              "      <td>-1.860785</td>\n",
              "      <td>0.596818</td>\n",
              "      <td>1.096439</td>\n",
              "      <td>-1.914688</td>\n",
              "      <td>1.141222</td>\n",
              "      <td>-0.643672</td>\n",
              "      <td>-0.636842</td>\n",
              "      <td>-0.321037</td>\n",
              "      <td>-1.124327</td>\n",
              "    </tr>\n",
              "    <tr>\n",
              "      <th>3</th>\n",
              "      <td>-1.215769</td>\n",
              "      <td>-1.864237</td>\n",
              "      <td>-0.432795</td>\n",
              "      <td>1.332902</td>\n",
              "      <td>-1.755765</td>\n",
              "      <td>0.707812</td>\n",
              "      <td>-0.889358</td>\n",
              "      <td>-1.021287</td>\n",
              "      <td>-0.407731</td>\n",
              "      <td>-1.045975</td>\n",
              "    </tr>\n",
              "    <tr>\n",
              "      <th>4</th>\n",
              "      <td>-1.882481</td>\n",
              "      <td>-1.719223</td>\n",
              "      <td>-0.432795</td>\n",
              "      <td>1.332902</td>\n",
              "      <td>-1.733692</td>\n",
              "      <td>1.596811</td>\n",
              "      <td>-0.757067</td>\n",
              "      <td>-1.346589</td>\n",
              "      <td>-0.360049</td>\n",
              "      <td>-0.893567</td>\n",
              "    </tr>\n",
              "  </tbody>\n",
              "</table>\n",
              "</div>\n",
              "      <button class=\"colab-df-convert\" onclick=\"convertToInteractive('df-c16b143d-bd8a-44bd-b6bc-805e5d922282')\"\n",
              "              title=\"Convert this dataframe to an interactive table.\"\n",
              "              style=\"display:none;\">\n",
              "        \n",
              "  <svg xmlns=\"http://www.w3.org/2000/svg\" height=\"24px\"viewBox=\"0 0 24 24\"\n",
              "       width=\"24px\">\n",
              "    <path d=\"M0 0h24v24H0V0z\" fill=\"none\"/>\n",
              "    <path d=\"M18.56 5.44l.94 2.06.94-2.06 2.06-.94-2.06-.94-.94-2.06-.94 2.06-2.06.94zm-11 1L8.5 8.5l.94-2.06 2.06-.94-2.06-.94L8.5 2.5l-.94 2.06-2.06.94zm10 10l.94 2.06.94-2.06 2.06-.94-2.06-.94-.94-2.06-.94 2.06-2.06.94z\"/><path d=\"M17.41 7.96l-1.37-1.37c-.4-.4-.92-.59-1.43-.59-.52 0-1.04.2-1.43.59L10.3 9.45l-7.72 7.72c-.78.78-.78 2.05 0 2.83L4 21.41c.39.39.9.59 1.41.59.51 0 1.02-.2 1.41-.59l7.78-7.78 2.81-2.81c.8-.78.8-2.07 0-2.86zM5.41 20L4 18.59l7.72-7.72 1.47 1.35L5.41 20z\"/>\n",
              "  </svg>\n",
              "      </button>\n",
              "      \n",
              "  <style>\n",
              "    .colab-df-container {\n",
              "      display:flex;\n",
              "      flex-wrap:wrap;\n",
              "      gap: 12px;\n",
              "    }\n",
              "\n",
              "    .colab-df-convert {\n",
              "      background-color: #E8F0FE;\n",
              "      border: none;\n",
              "      border-radius: 50%;\n",
              "      cursor: pointer;\n",
              "      display: none;\n",
              "      fill: #1967D2;\n",
              "      height: 32px;\n",
              "      padding: 0 0 0 0;\n",
              "      width: 32px;\n",
              "    }\n",
              "\n",
              "    .colab-df-convert:hover {\n",
              "      background-color: #E2EBFA;\n",
              "      box-shadow: 0px 1px 2px rgba(60, 64, 67, 0.3), 0px 1px 3px 1px rgba(60, 64, 67, 0.15);\n",
              "      fill: #174EA6;\n",
              "    }\n",
              "\n",
              "    [theme=dark] .colab-df-convert {\n",
              "      background-color: #3B4455;\n",
              "      fill: #D2E3FC;\n",
              "    }\n",
              "\n",
              "    [theme=dark] .colab-df-convert:hover {\n",
              "      background-color: #434B5C;\n",
              "      box-shadow: 0px 1px 3px 1px rgba(0, 0, 0, 0.15);\n",
              "      filter: drop-shadow(0px 1px 2px rgba(0, 0, 0, 0.3));\n",
              "      fill: #FFFFFF;\n",
              "    }\n",
              "  </style>\n",
              "\n",
              "      <script>\n",
              "        const buttonEl =\n",
              "          document.querySelector('#df-c16b143d-bd8a-44bd-b6bc-805e5d922282 button.colab-df-convert');\n",
              "        buttonEl.style.display =\n",
              "          google.colab.kernel.accessAllowed ? 'block' : 'none';\n",
              "\n",
              "        async function convertToInteractive(key) {\n",
              "          const element = document.querySelector('#df-c16b143d-bd8a-44bd-b6bc-805e5d922282');\n",
              "          const dataTable =\n",
              "            await google.colab.kernel.invokeFunction('convertToInteractive',\n",
              "                                                     [key], {});\n",
              "          if (!dataTable) return;\n",
              "\n",
              "          const docLinkHtml = 'Like what you see? Visit the ' +\n",
              "            '<a target=\"_blank\" href=https://colab.research.google.com/notebooks/data_table.ipynb>data table notebook</a>'\n",
              "            + ' to learn more about interactive tables.';\n",
              "          element.innerHTML = '';\n",
              "          dataTable['output_type'] = 'display_data';\n",
              "          await google.colab.output.renderOutput(dataTable, element);\n",
              "          const docLink = document.createElement('div');\n",
              "          docLink.innerHTML = docLinkHtml;\n",
              "          element.appendChild(docLink);\n",
              "        }\n",
              "      </script>\n",
              "    </div>\n",
              "  </div>\n",
              "  "
            ]
          },
          "metadata": {},
          "execution_count": 28
        }
      ]
    },
    {
      "cell_type": "code",
      "source": [
        "ni = np.array(data)"
      ],
      "metadata": {
        "id": "ihpzmWHmogBp"
      },
      "execution_count": null,
      "outputs": []
    },
    {
      "cell_type": "code",
      "source": [
        "def mu(d):\n",
        "  n = len(d)\n",
        "  sum = 0\n",
        "  for i in d:\n",
        "    sum = sum + i\n",
        "\n",
        "  mean = sum/n\n",
        "  return mean"
      ],
      "metadata": {
        "id": "aNblanWmotr3"
      },
      "execution_count": null,
      "outputs": []
    },
    {
      "cell_type": "code",
      "source": [
        "def cov(x,y):\n",
        "  X = (x - mu(x))\n",
        "  Y = (y - mu(y))\n",
        "  sop = np.dot(X,Y.T)\n",
        "  N = len(x) + len(y)\n",
        "\n",
        "  covariance = sop/N\n",
        "\n",
        "  return covariance"
      ],
      "metadata": {
        "id": "8YQ3Pdtdotud"
      },
      "execution_count": null,
      "outputs": []
    },
    {
      "cell_type": "code",
      "source": [
        "def cov_matrix(df):\n",
        "  c = len(df.columns)\n",
        "  r = c\n",
        "  mat = [[0]*c]*r\n",
        "\n",
        "  for i in range(r):\n",
        "    x = df.iloc[:,i]\n",
        "    x = np.array(x)\n",
        "    for j in range(c):\n",
        "      y = df.iloc[:,j]\n",
        "      y = np.array(y)\n",
        "      mat[i][j] = cov(x,y)\n",
        "\n",
        "  mat = np.array(mat)\n",
        "    \n",
        "  return mat"
      ],
      "metadata": {
        "id": "n1Iapltcotwp"
      },
      "execution_count": null,
      "outputs": []
    },
    {
      "cell_type": "code",
      "source": [
        "def Variance(data,n):\n",
        "  X = n\n",
        "  Q = cov_matrix(data)\n",
        "\n",
        "  exp = np.dot(X.T,Q)\n",
        "  V = np.dot(exp,X)\n",
        "\n",
        "  return V"
      ],
      "metadata": {
        "id": "GovZxmNapGaP"
      },
      "execution_count": null,
      "outputs": []
    },
    {
      "cell_type": "code",
      "source": [
        "def Return(data,n):\n",
        "  ret = []\n",
        "  data = np.array(data)\n",
        "  for i in range(len(data)):\n",
        "    m = np.dot(n.T,data[i])\n",
        "    ret.append(m)\n",
        "\n",
        "  return np.mean(ret)"
      ],
      "metadata": {
        "id": "IAwuzbzopGch"
      },
      "execution_count": null,
      "outputs": []
    },
    {
      "cell_type": "markdown",
      "source": [
        "## **Random Approach**"
      ],
      "metadata": {
        "id": "FSUMIV5-n543"
      }
    },
    {
      "cell_type": "code",
      "source": [
        "def wt(data,epochs):\n",
        "  df = data\n",
        "  data = np.array(data)\n",
        "  weights = []\n",
        "  opt = []\n",
        "\n",
        "  for i in range(epochs):\n",
        "    n = np.random.random(len(data[0]))\n",
        "    n = n/np.sum(n)\n",
        "    n = np.array(n)\n",
        "\n",
        "    F = Variance(df,n) - Return(data,n)\n",
        "    opt.append(F)\n",
        "    weights.append(n)\n",
        "\n",
        "  index = opt.index(np.min(opt))\n",
        "\n",
        "  return weights[index]"
      ],
      "metadata": {
        "id": "ZeqPP3S_pA_r"
      },
      "execution_count": null,
      "outputs": []
    },
    {
      "cell_type": "code",
      "source": [
        "n = np.array(wt(data,100))*100"
      ],
      "metadata": {
        "id": "zGP9ITkGpBBW"
      },
      "execution_count": null,
      "outputs": []
    },
    {
      "cell_type": "code",
      "source": [
        "n"
      ],
      "metadata": {
        "colab": {
          "base_uri": "https://localhost:8080/"
        },
        "id": "gov7MJt5pBDU",
        "outputId": "7f5c32e9-1f71-4e23-9d53-c69c2cf57cc2"
      },
      "execution_count": null,
      "outputs": [
        {
          "output_type": "execute_result",
          "data": {
            "text/plain": [
              "array([ 2.75406023,  3.4219782 , 13.91379504, 18.36715344, 20.42654539,\n",
              "       16.36981907, 16.21032588,  2.06404322,  1.15640782,  5.31587171])"
            ]
          },
          "metadata": {},
          "execution_count": 27
        }
      ]
    },
    {
      "cell_type": "markdown",
      "source": [
        "## **Linear Programming**"
      ],
      "metadata": {
        "id": "yLPlzT__h_Ov"
      }
    },
    {
      "cell_type": "markdown",
      "source": [
        "### **Search Approach**"
      ],
      "metadata": {
        "id": "OQszQCvxks0i"
      }
    },
    {
      "cell_type": "markdown",
      "source": [
        "1. convert each inequality constraint to equality\n",
        "2. solve the constraint equations to find intersection points by taking 2 constraint lines at a time\n",
        "3. compute value of objective function at each point and find the max or min value"
      ],
      "metadata": {
        "id": "5rNJKmRTk5f7"
      }
    },
    {
      "cell_type": "markdown",
      "source": [
        "Maximize  $s1x1 + s2x2 + ....$ = fixed amount constraint not given yet\n",
        "\n",
        "\n",
        "n = weight vector\n",
        "\n",
        "x = stock closing price\n"
      ],
      "metadata": {
        "id": "f1J4RV54pfDN"
      }
    },
    {
      "cell_type": "code",
      "source": [
        "def objective(x,s):\n",
        "  F = np.dot(x.T,s)\n",
        "  return F"
      ],
      "metadata": {
        "id": "L_GYcSVlpYGG"
      },
      "execution_count": null,
      "outputs": []
    },
    {
      "cell_type": "markdown",
      "source": [
        "Summation of all weights = 1\n",
        "\n",
        "each $x<=1$\n",
        "\n",
        "each $x>=-1$\n",
        "\n",
        "solving constraint equations for extreme points\n",
        "\n",
        "wont work will have to take equations 2 at a time and solve, 21C2"
      ],
      "metadata": {
        "id": "DQP1ptSWpn6M"
      }
    },
    {
      "cell_type": "code",
      "source": [
        "def matrices(n):\n",
        "  n = len(n)\n",
        "  a = [1]*n\n",
        "  b = np.identity(n)\n",
        "  coeff = np.vstack([a,b,b]) \n",
        "\n",
        "  c = [1]*(n+1)\n",
        "  d = [-1]*n\n",
        "  left = c + d\n",
        "  left = np.array(left)\n",
        "\n",
        "  return coeff,left"
      ],
      "metadata": {
        "id": "bhv3WvbzpYIS"
      },
      "execution_count": null,
      "outputs": []
    },
    {
      "cell_type": "code",
      "source": [
        "def solution(coef,const):\n",
        "  coeff = np.linalg.pinv(coef)\n",
        "  soln = np.dot(coeff,const)\n",
        "  return soln"
      ],
      "metadata": {
        "id": "SmNrjbH_pYL6"
      },
      "execution_count": null,
      "outputs": []
    },
    {
      "cell_type": "code",
      "source": [
        "def combinations(matrix,c):\n",
        "  combs = [(0)*c]\n",
        "  n = len(matrix)\n",
        "\n",
        "  for i in range(n):\n",
        "    for j in range(i+1,n):\n",
        "      combs = combs + [(i,j)]\n",
        "  \n",
        "  del combs[0]\n",
        "      \n",
        "  return combs"
      ],
      "metadata": {
        "id": "KbhyhBj1pYWV"
      },
      "execution_count": null,
      "outputs": []
    },
    {
      "cell_type": "code",
      "source": [
        "def extreme_points(n,c):\n",
        "  m = matrices(n)[0]\n",
        "  con = matrices(n)[1]\n",
        "  combs = combinations(m,c) \n",
        "  l = len(m)\n",
        "  soln = []\n",
        "\n",
        "  for i in range(l):\n",
        "    j = 0\n",
        "    sol = [m[combs[i][j]], m[combs[i][j+1]]]\n",
        "    const = [con[combs[i][j]],con[combs[i][j+1]]]\n",
        "    soln.append(solution(sol,const))\n",
        "\n",
        "  return soln"
      ],
      "metadata": {
        "id": "Mov0HVDPp3zv"
      },
      "execution_count": null,
      "outputs": []
    },
    {
      "cell_type": "code",
      "source": [
        "def optimal_value(n):\n",
        "  F = []\n",
        "  w = extreme_points(n,2)\n",
        "  l = len(w)\n",
        "\n",
        "  for i in range(l):\n",
        "    F.append(objective(w[i],n))\n",
        "\n",
        "  index = F.index(np.max(F)) #maximum point\n",
        "\n",
        "  return w[index]"
      ],
      "metadata": {
        "id": "cuUTGrr8p33U"
      },
      "execution_count": null,
      "outputs": []
    },
    {
      "cell_type": "code",
      "source": [
        "optimal_value(ni[0])"
      ],
      "metadata": {
        "colab": {
          "base_uri": "https://localhost:8080/"
        },
        "id": "KI9qEJSFpYZ6",
        "outputId": "6baeea58-4501-45c6-9265-e5e51ba6620b"
      },
      "execution_count": null,
      "outputs": [
        {
          "output_type": "execute_result",
          "data": {
            "text/plain": [
              "array([-5.55111512e-17, -1.38777878e-17,  0.00000000e+00,  0.00000000e+00,\n",
              "        0.00000000e+00,  1.00000000e+00,  0.00000000e+00,  0.00000000e+00,\n",
              "        0.00000000e+00,  0.00000000e+00])"
            ]
          },
          "metadata": {},
          "execution_count": 35
        }
      ]
    },
    {
      "cell_type": "markdown",
      "source": [
        "### **ISO Profit approach**"
      ],
      "metadata": {
        "id": "EoA9k_DgljYw"
      }
    },
    {
      "cell_type": "markdown",
      "source": [
        "1. convert each inequality constraint to equality\n",
        "2. solve the constraint equations to find intersection points by taking 2 constraint lines at a time\n",
        "3. choose a profit line of objective function that falls within feasible region\n",
        "4. Move line parallel to itself away from origin\n",
        "5. max point is the extreme point touched by maximum possible profit line in feasible region"
      ],
      "metadata": {
        "id": "WYTTPRW4lqAa"
      }
    },
    {
      "cell_type": "code",
      "source": [
        ""
      ],
      "metadata": {
        "id": "nG6vv2CoJASO"
      },
      "execution_count": null,
      "outputs": []
    },
    {
      "cell_type": "markdown",
      "source": [
        "## **Constraint Non Linear Programming**"
      ],
      "metadata": {
        "id": "uJLAizccm2EX"
      }
    },
    {
      "cell_type": "markdown",
      "source": [
        "### **Graphical Approach 1** "
      ],
      "metadata": {
        "id": "H7YUw4a5m-6X"
      }
    },
    {
      "cell_type": "markdown",
      "source": [
        "1. Try different curve parallel to the random objective function curve\n",
        "2. Find curves which has only 1 intersection point with constraint equations\n",
        "3. Find max and min points among them\n",
        "4. May not get the optimal point but can get near optimal over some epochs"
      ],
      "metadata": {
        "id": "o-yjjz6WnFR2"
      }
    },
    {
      "cell_type": "code",
      "source": [
        "def obj(data,w,c):\n",
        "  F = Variance(data,w) - Return(data,w) - c\n",
        "  return F"
      ],
      "metadata": {
        "id": "oKcYK2xbnAql"
      },
      "execution_count": null,
      "outputs": []
    },
    {
      "cell_type": "markdown",
      "source": [
        "**Constraints**\n",
        "\n",
        "Summation of all weights = 1\n",
        "\n",
        "each $x<=1$\n",
        "\n",
        "each $x>=-1$"
      ],
      "metadata": {
        "id": "8Ao8oYTbr8bH"
      }
    },
    {
      "cell_type": "code",
      "source": [
        "w = np.random.random(len(ni[0]))\n",
        "w"
      ],
      "metadata": {
        "id": "qlHMLyoYnAuT",
        "colab": {
          "base_uri": "https://localhost:8080/"
        },
        "outputId": "9cba351d-637b-4672-b2be-b6fb1f300fe6"
      },
      "execution_count": null,
      "outputs": [
        {
          "output_type": "execute_result",
          "data": {
            "text/plain": [
              "array([0.73309236, 0.8791181 , 0.30628003, 0.72615562, 0.92267591,\n",
              "       0.19800548, 0.20207886, 0.28449117, 0.22619135, 0.81420861])"
            ]
          },
          "metadata": {},
          "execution_count": 48
        }
      ]
    },
    {
      "cell_type": "code",
      "source": [
        ""
      ],
      "metadata": {
        "id": "BuuIsfbcI2ah"
      },
      "execution_count": null,
      "outputs": []
    },
    {
      "cell_type": "markdown",
      "source": [
        "### **Graphical Approach 2** "
      ],
      "metadata": {
        "id": "ya1gQKiLxMLw"
      }
    },
    {
      "cell_type": "markdown",
      "source": [
        "1. Try different curve parallel to the random objective function curve\n",
        "2. Find curves which has gradient same direction as gradient of constraint for max point and gradient opposite direction for min point ??\n",
        "3. Find max and min points among them\n",
        "4. May not get the optimal point but can get near optimal over some epochs"
      ],
      "metadata": {
        "id": "L-ZAg-vdxSlT"
      }
    },
    {
      "cell_type": "code",
      "source": [
        ""
      ],
      "metadata": {
        "id": "9yd36jzLI_De"
      },
      "execution_count": null,
      "outputs": []
    },
    {
      "cell_type": "markdown",
      "source": [
        "### **Newton's optimization** "
      ],
      "metadata": {
        "id": "5Qgj41WzFshi"
      }
    },
    {
      "cell_type": "code",
      "source": [
        "def Variance(data,Q,n):\n",
        "  X = n\n",
        "  exp = np.dot(X.T,Q)\n",
        "  V = np.dot(exp,X)\n",
        "\n",
        "  return V"
      ],
      "metadata": {
        "id": "AzUCRSKjHpz2"
      },
      "execution_count": null,
      "outputs": []
    },
    {
      "cell_type": "code",
      "source": [
        "def Return(data,n):\n",
        "  ret = []\n",
        "  data = np.array(data)\n",
        "  for i in range(len(data)):\n",
        "    m = np.dot(n.T,data[i])\n",
        "    ret.append(m)\n",
        "\n",
        "  return np.mean(ret)"
      ],
      "metadata": {
        "id": "AQv6tjMQHp3P"
      },
      "execution_count": null,
      "outputs": []
    },
    {
      "cell_type": "code",
      "source": [
        "def obj(Q,data,w):\n",
        "  F = Variance(data,Q,w) - Return(data,w) \n",
        "  return F"
      ],
      "metadata": {
        "id": "Tmujm_jdHxK5"
      },
      "execution_count": null,
      "outputs": []
    },
    {
      "cell_type": "code",
      "source": [
        "def gradient(Q,data,w):\n",
        "  X = w\n",
        "  e1 = np.matmul(Q,X)\n",
        "  e2 = 2*e1\n",
        "  d = e2 - data\n",
        "  return d"
      ],
      "metadata": {
        "id": "_iwOyrUWHxUM"
      },
      "execution_count": null,
      "outputs": []
    },
    {
      "cell_type": "code",
      "source": [
        "def Newtons_optimization(data,w,Q,learning_rate,max_epoch):\n",
        "  objval = []\n",
        "  g2 = np.linalg.det(2*Q) + 1 ## 2nd derivative of objective function with smoothing\n",
        "\n",
        "  for i in range(max_epoch):\n",
        "    g = gradient(Q,data,w)\n",
        "    w = w - learning_rate*g/g2\n",
        "    o = obj(Q,data,w)\n",
        "    objval.append(o)\n",
        "\n",
        "  return w/np.sum(w),objval"
      ],
      "metadata": {
        "id": "Qo-MRXDOFyLc"
      },
      "execution_count": null,
      "outputs": []
    },
    {
      "cell_type": "code",
      "source": [
        "Q = cov_matrix(data)\n",
        "w = np.random.random(len(ni[0]))"
      ],
      "metadata": {
        "id": "n4h6WTSMFynu"
      },
      "execution_count": null,
      "outputs": []
    },
    {
      "cell_type": "code",
      "source": [
        "weights,objective = Newtons_optimization(ni[0],w,Q,0.01,10)"
      ],
      "metadata": {
        "id": "7dYLTqz4FyrD"
      },
      "execution_count": null,
      "outputs": []
    },
    {
      "cell_type": "code",
      "source": [
        "plt.plot(list(range(10)),objective)"
      ],
      "metadata": {
        "colab": {
          "base_uri": "https://localhost:8080/",
          "height": 283
        },
        "id": "EWkBxYsYIa5C",
        "outputId": "79c44bdc-49ae-465e-ff69-2e02b1e7533a"
      },
      "execution_count": null,
      "outputs": [
        {
          "output_type": "execute_result",
          "data": {
            "text/plain": [
              "[<matplotlib.lines.Line2D at 0x7f1fcb3a2510>]"
            ]
          },
          "metadata": {},
          "execution_count": 108
        },
        {
          "output_type": "display_data",
          "data": {
            "text/plain": [
              "<Figure size 432x288 with 1 Axes>"
            ],
            "image/png": "[encoded data removed]"
          },
          "metadata": {
            "needs_background": "light"
          }
        }
      ]
    },
    {
      "cell_type": "markdown",
      "source": [
        "### **NLP with equality constraints using Lagrange Multiplier** "
      ],
      "metadata": {
        "id": "QQMnCpIlrKGL"
      }
    },
    {
      "cell_type": "markdown",
      "source": [
        "1. take dot product of lagrange multiplier vector with vector of constraint equations\n",
        "2. subtract the product from objective function to form a new function\n",
        "3. Take derivative of new function w.r.t both x and lagrange multiplier and set = 0 \n",
        "4. solve the derivative equations for optimal x and lm values"
      ],
      "metadata": {
        "id": "uISiOOQpriZq"
      }
    },
    {
      "cell_type": "code",
      "source": [
        ""
      ],
      "metadata": {
        "id": "6TDrvD3ZJDif"
      },
      "execution_count": null,
      "outputs": []
    },
    {
      "cell_type": "markdown",
      "source": [
        "### **NLP/Quadratic solving with KKT condition** "
      ],
      "metadata": {
        "id": "KxPU5TD02XR0"
      }
    },
    {
      "cell_type": "markdown",
      "source": [
        "**Basic Features**\n",
        "\n",
        "1. objective function linear or non linear\n",
        "2. constraints linear or non linear\n",
        "3. constraints can be equality or inequality\n",
        "\n",
        "**KKT conditions**\n",
        "1. objective function concave\n",
        "2. each constraint is convex\n"
      ],
      "metadata": {
        "id": "B7oz2VUO2gXN"
      }
    },
    {
      "cell_type": "code",
      "source": [
        ""
      ],
      "metadata": {
        "id": "kiv4IRI7JER5"
      },
      "execution_count": null,
      "outputs": []
    },
    {
      "cell_type": "markdown",
      "source": [
        "## **Metaheuristic approaches**"
      ],
      "metadata": {
        "id": "BkWCz51Qgi-v"
      }
    },
    {
      "cell_type": "markdown",
      "source": [
        "### **Hill Climbing Method**"
      ],
      "metadata": {
        "id": "QOdvSF8Dg7Kl"
      }
    },
    {
      "cell_type": "markdown",
      "source": [
        "1. initialize a random point in search space\n",
        "2. find neighbouring points\n",
        "3. move to point with best function value\n",
        "4. repeat step 2 and 3 till all neighbouring points lower or higher value\n",
        "\n",
        "But starting point matters here because of local minima problem"
      ],
      "metadata": {
        "id": "Td0A7gIyhGSS"
      }
    },
    {
      "cell_type": "code",
      "source": [
        "def Variance(data,Q,n):\n",
        "  X = n\n",
        "  exp = np.dot(X.T,Q)\n",
        "  V = np.dot(exp,X)\n",
        "\n",
        "  return V"
      ],
      "metadata": {
        "id": "ZJshdzvY_mtb"
      },
      "execution_count": null,
      "outputs": []
    },
    {
      "cell_type": "code",
      "source": [
        "def Return(data,n):\n",
        "  ret = []\n",
        "  data = np.array(data)\n",
        "  for i in range(len(data)):\n",
        "    m = np.dot(n.T,data[i])\n",
        "    ret.append(m)\n",
        "\n",
        "  return np.mean(ret)"
      ],
      "metadata": {
        "id": "BZFm7ecL_mw9"
      },
      "execution_count": null,
      "outputs": []
    },
    {
      "cell_type": "code",
      "source": [
        "def obj(Q,data,w):\n",
        "  F = Variance(data,Q,w) - Return(data,w) \n",
        "  return F"
      ],
      "metadata": {
        "id": "umxeFW4e6Iby"
      },
      "execution_count": null,
      "outputs": []
    },
    {
      "cell_type": "code",
      "source": [
        "def gradient(Q,data,w):\n",
        "  X = w\n",
        "  e1 = np.matmul(Q,X)\n",
        "  e2 = 2*e1\n",
        "  d = e2 - data\n",
        "  return d"
      ],
      "metadata": {
        "id": "-3SIctiL11-Z"
      },
      "execution_count": null,
      "outputs": []
    },
    {
      "cell_type": "code",
      "source": [
        "Q = cov_matrix(data)\n",
        "w = np.random.random(len(ni[0]))\n",
        "gradient(Q,ni[0],w)"
      ],
      "metadata": {
        "colab": {
          "base_uri": "https://localhost:8080/"
        },
        "id": "wb4kZdi212Ap",
        "outputId": "33188acd-f967-48c4-cc5e-91c2c114d50f"
      },
      "execution_count": null,
      "outputs": [
        {
          "output_type": "execute_result",
          "data": {
            "text/plain": [
              "array([ 1.90783136,  1.17628074,  0.03695686, -1.19901448,  2.10199748,\n",
              "       -2.02760334,  0.67785815,  1.42023288,  0.4541683 ,  1.15599109])"
            ]
          },
          "metadata": {},
          "execution_count": 73
        }
      ]
    },
    {
      "cell_type": "code",
      "source": [
        "def hill_descent(data,w,Q,learning_rate,max_epoch):\n",
        "\n",
        "  objval = []\n",
        "\n",
        "  for i in range(max_epoch):\n",
        "    g = gradient(Q,data,w)\n",
        "    pl = w - learning_rate*g \n",
        "    pr = w + learning_rate*g\n",
        "    olt = obj(Q,data,pl)\n",
        "    ort = obj(Q,data,pr)\n",
        "    o = obj(Q,data,w)\n",
        "    objval.append(o)\n",
        "    if(olt<o):\n",
        "      w = pl\n",
        "    else:\n",
        "      w = pr\n",
        "    if(o<olt and o<ort):\n",
        "      break\n",
        "\n",
        "  return w/np.sum(w),objval"
      ],
      "metadata": {
        "id": "o58ieyZC12DM"
      },
      "execution_count": null,
      "outputs": []
    },
    {
      "cell_type": "code",
      "source": [
        "weight,objective = hill_descent(ni[0],w,Q,0.000000001,100) ##based on only 1 data row"
      ],
      "metadata": {
        "id": "U9VrFyoW43ud"
      },
      "execution_count": null,
      "outputs": []
    },
    {
      "cell_type": "code",
      "source": [
        "plt.plot(list(range(100)),objective)"
      ],
      "metadata": {
        "colab": {
          "base_uri": "https://localhost:8080/",
          "height": 293
        },
        "id": "3WvgQ2UKGE2b",
        "outputId": "d81342d5-0cc4-4e5d-a0d9-d7370d2b7344"
      },
      "execution_count": null,
      "outputs": [
        {
          "output_type": "execute_result",
          "data": {
            "text/plain": [
              "[<matplotlib.lines.Line2D at 0x7f1fcb42ef90>]"
            ]
          },
          "metadata": {},
          "execution_count": 90
        },
        {
          "output_type": "display_data",
          "data": {
            "text/plain": [
              "<Figure size 432x288 with 1 Axes>"
            ],
            "image/png": "[encoded data removed]"
          },
          "metadata": {
            "needs_background": "light"
          }
        }
      ]
    },
    {
      "cell_type": "markdown",
      "source": [
        "### **Simulated Annealing**"
      ],
      "metadata": {
        "id": "AKLvFF8Jikpg"
      }
    },
    {
      "cell_type": "markdown",
      "source": [
        "1. select 4 random points from search space\n",
        "2. T = plug in 4 points in function and take average \n",
        "3. choose a random initial design point X1\n",
        "4. iteration 1\n",
        "    1. generate new design point X2 = [r1,r2]\n",
        "    2. r1, r2 = 2 uniformly distributed random numbers\n",
        "    3. find f(X1) - f(X2)\n",
        "    4. if difference < 0"
      ],
      "metadata": {
        "id": "Ef-beTrfioiV"
      }
    },
    {
      "cell_type": "code",
      "source": [
        ""
      ],
      "metadata": {
        "id": "_2dS3aUMkr-S"
      },
      "execution_count": null,
      "outputs": []
    }
  ]
}